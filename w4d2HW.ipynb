{
 "cells": [
  {
   "cell_type": "markdown",
   "id": "e1980a99",
   "metadata": {},
   "source": [
    "# Exercises\n",
    "### Exercise #1 <br>\n",
    "<p>Reverse the list below in-place using an in-place algorithm.<br>For extra credit: Reverse the strings at the same time.</p>"
   ]
  },
  {
   "cell_type": "code",
   "execution_count": 47,
   "id": "12d272bb",
   "metadata": {},
   "outputs": [
    {
     "name": "stdout",
     "output_type": "stream",
     "text": [
      "['.', 'ecnetnes', 'a', 'si', 'siht']\n"
     ]
    }
   ],
   "source": [
    "words = ['this' , 'is', 'a', 'sentence', '.']\n",
    "def list_s(arr):\n",
    "    x, y = 0, len(arr)-1\n",
    "    while x <= y:\n",
    "        arr[x], arr[y] = arr[y][::-1], arr[x][::-1]\n",
    "        x +=1\n",
    "        y -=1\n",
    "    return arr\n",
    "print(list_s(words))"
   ]
  },
  {
   "cell_type": "markdown",
   "id": "31d512e9",
   "metadata": {},
   "source": [
    "### Exercise #2 <br>\n",
    "<p>Create a function that counts how many distinct words are in the string below, then outputs a dictionary with the words as the key and the value as the amount of times that word appears in the string.<br>Should output:<br>{'a': 5,<br>\n",
    " 'abstract': 1,<br>\n",
    " 'an': 3,<br>\n",
    " 'array': 2, ... etc...</p>"
   ]
  },
  {
   "cell_type": "code",
   "execution_count": 48,
   "id": "21556afd",
   "metadata": {},
   "outputs": [],
   "source": [
    "import re"
   ]
  },
  {
   "cell_type": "code",
   "execution_count": 49,
   "id": "f2be16b5",
   "metadata": {},
   "outputs": [
    {
     "name": "stdout",
     "output_type": "stream",
     "text": [
      "in||1\n",
      "computing||1\n",
      "a||5\n",
      "hash||4\n",
      "table||2\n",
      "map||2\n",
      "is||1\n",
      "data||2\n",
      "structure||2\n",
      "which||2\n",
      "implements||1\n",
      "an||3\n",
      "associative||1\n",
      "array||2\n",
      "abstract||1\n",
      "type||1\n",
      "that||1\n",
      "can||2\n",
      "keys||1\n",
      "to||2\n",
      "values||1\n",
      "uses||1\n",
      "function||1\n",
      "compute||1\n",
      "index||1\n",
      "into||1\n",
      "of||1\n",
      "buckets||1\n",
      "or||1\n",
      "slots||1\n",
      "from||1\n",
      "the||1\n",
      "desired||1\n",
      "value||1\n",
      "be||1\n",
      "found||1\n"
     ]
    }
   ],
   "source": [
    "a_text = 'In computing, a hash table hash map is a data structure which implements an associative array abstract data type, a structure that can map keys to values. A hash table uses a hash function to compute an index into an array of buckets or slots from which the desired value can be found'\n",
    "def count_dict(a):\n",
    "    d = {}\n",
    "    pattern = re.compile(\"[A-z]+\")\n",
    "    match = pattern.findall(a)\n",
    "    for i in match:\n",
    "        if i.lower() not in d:\n",
    "            d[i.lower()] = 1\n",
    "        else:\n",
    "            d[i.lower()] += 1\n",
    "        \n",
    "    for k,v in d.items():\n",
    "        print(f\"{k}||{v}\")\n",
    "    return \n",
    "\n",
    "count_dict(a_text)\n"
   ]
  },
  {
   "cell_type": "markdown",
   "id": "3e2f02d8",
   "metadata": {},
   "source": [
    "## Exercise #3\n",
    "\n",
    "Write a program to implement a Linear Search Algorithm. Also in a comment, write the Time Complexity of the following algorithm.\n",
    "\n",
    "#### Hint: Linear Searching will require searching a list for a given number. "
   ]
  },
  {
   "cell_type": "code",
   "execution_count": 51,
   "id": "2e8561fa",
   "metadata": {},
   "outputs": [
    {
     "data": {
      "text/plain": [
       "'5 is index 4'"
      ]
     },
     "execution_count": 51,
     "metadata": {},
     "output_type": "execute_result"
    }
   ],
   "source": [
    "def find_a(arr, a):\n",
    "    \"\"\"\n",
    "    The following for loop is linear which means that we go through all the elements of the list one by one\n",
    "    until the condition is met or reached the end of the list    \n",
    "    \"\"\"\n",
    "    for i in range(len(arr)):\n",
    "        if arr[i] == a:\n",
    "            return f\"{a} is index {i}\"\n",
    "    return -1\n",
    "\n",
    "\n",
    "l = [1,2,3,4,5,6,7,8,9]\n",
    "\n",
    "find_a(l, 5)"
   ]
  },
  {
   "cell_type": "code",
   "execution_count": null,
   "id": "b6368c83",
   "metadata": {},
   "outputs": [],
   "source": []
  }
 ],
 "metadata": {
  "kernelspec": {
   "display_name": "Python 3 (ipykernel)",
   "language": "python",
   "name": "python3"
  },
  "language_info": {
   "codemirror_mode": {
    "name": "ipython",
    "version": 3
   },
   "file_extension": ".py",
   "mimetype": "text/x-python",
   "name": "python",
   "nbconvert_exporter": "python",
   "pygments_lexer": "ipython3",
   "version": "3.9.13"
  }
 },
 "nbformat": 4,
 "nbformat_minor": 5
}
